{
 "cells": [
  {
   "cell_type": "code",
   "execution_count": 1,
   "metadata": {},
   "outputs": [],
   "source": [
    "import os"
   ]
  },
  {
   "cell_type": "code",
   "execution_count": 10,
   "metadata": {},
   "outputs": [],
   "source": [
    "from pathlib import Path\n",
    "\n",
    "DOWNLOADS = Path.home() / 'Downloads' / 'fall'"
   ]
  },
  {
   "cell_type": "code",
   "execution_count": 8,
   "metadata": {},
   "outputs": [],
   "source": [
    "\n",
    "def rename_files_in_directory(directory_path):\n",
    "    # Get a list of files in the directory\n",
    "    files = os.listdir(directory_path)\n",
    "    # Sort the files to maintain any ordering\n",
    "    files.sort()\n",
    "    # Initialize the starting number for file names\n",
    "    start_number = 1\n",
    "    \n",
    "    # Loop through each file in the directory\n",
    "    for filename in files:\n",
    "        # Create the new file name with the number, preserving the file extension\n",
    "        file_extension = os.path.splitext(filename)[1]\n",
    "        new_filename = f\"{start_number}{file_extension}\"\n",
    "        \n",
    "        # Get the full path of the current and new file names\n",
    "        old_file_path = os.path.join(directory_path, filename)\n",
    "        new_file_path = os.path.join(directory_path, new_filename)\n",
    "        \n",
    "        # Rename the file\n",
    "        os.rename(old_file_path, new_file_path)\n",
    "        \n",
    "        # Increment the number for the next file\n",
    "        start_number += 1"
   ]
  },
  {
   "cell_type": "code",
   "execution_count": 11,
   "metadata": {},
   "outputs": [],
   "source": [
    "# Example usage\n",
    "directory_path = DOWNLOADS # Replace with your directory path\n",
    "rename_files_in_directory(directory_path)"
   ]
  }
 ],
 "metadata": {
  "kernelspec": {
   "display_name": "Python 3",
   "language": "python",
   "name": "python3"
  },
  "language_info": {
   "codemirror_mode": {
    "name": "ipython",
    "version": 3
   },
   "file_extension": ".py",
   "mimetype": "text/x-python",
   "name": "python",
   "nbconvert_exporter": "python",
   "pygments_lexer": "ipython3",
   "version": "3.11.5"
  }
 },
 "nbformat": 4,
 "nbformat_minor": 2
}
